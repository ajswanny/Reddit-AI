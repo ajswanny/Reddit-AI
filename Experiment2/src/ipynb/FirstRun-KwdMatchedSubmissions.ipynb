{
 "cells": [
  {
   "cell_type": "markdown",
   "metadata": {},
   "source": [
    "February 20, 2018\n",
    "\n",
    "Currently working on organizing data.\n",
    "\n",
    "Submissions identified by first version of program, using only keyword intersection, with a minimum of 3 intersecting keywords in ordert to grant clearance for posting a comment.\n",
    "\n",
    "I. Dataset: _main_kwd_df | _r-worldnews_/2018-02-18_00-40\n",
    "\n",
    "    1.\n",
    "    7xzman;  A federal control board urgently sought a $300...; \n",
    "    https://www.reddit.com/r/worldnews/comments/7xzman/a_federal_control_board_urgently_sought_a_300/\n",
    "\n",
    "    2.\n",
    "    7xxazn;  Eight people hit by car in Melbourne, seven of...;\n",
    "    https://www.reddit.com/r/worldnews/comments/7xxazn/eight_people_hit_by_car_in_melbourne_seven_of/\n",
    "    \n",
    "    These two have each two intersecting keywords.\n",
    "    \n",
    "    \n",
    "II. Dataset: _main_kwd_df | _r-news_/2018-02-20_12-19\n",
    "\n",
    "    1. 7yvoa4;  As some 250,000 Puerto Ricans are without powe...;\n",
    "    https://www.reddit.com/r/worldnews/comments/7yvoa4/as_some_250000_puerto_ricans_are_without_power_5/\n",
    "    Intersection size: 5\n",
    "    \n",
    "    \n",
    "III. Dataset: _main_kwd_df | _r-news_/2018-02-20_16-38\n",
    "\n",
    "    1. 7yzdqa;  Suicide rates spike in Puerto Rico, five month...;\n",
    "    https://www.reddit.com/r/news/comments/7yzdqa/suicide_rates_spike_in_puerto_rico_five_months/\n",
    "    Intersection size: 2\n",
    "    \n",
    "    2. 7yk97i;  At least 4 people shot, including 6-year-old, ...;\n",
    "    https://www.reddit.com/r/news/comments/7yk97i/at_least_4_people_shot_including_6yearold_at/\n",
    "    Intersection size: 2\n",
    "        \n",
    "    3. 7yq73o;  Florida girl, 11, found in Georgia hotel room ...;\n",
    "    https://www.reddit.com/r/news/comments/7yq73o/florida_girl_11_found_in_georgia_hotel_room_with/\n",
    "    Intersection size: 2"
   ]
  },
  {
   "cell_type": "code",
   "execution_count": null,
   "metadata": {
    "collapsed": true
   },
   "outputs": [],
   "source": []
  }
 ],
 "metadata": {
  "kernelspec": {
   "display_name": "Python 2",
   "language": "python",
   "name": "python2"
  },
  "language_info": {
   "codemirror_mode": {
    "name": "ipython",
    "version": 2
   },
   "file_extension": ".py",
   "mimetype": "text/x-python",
   "name": "python",
   "nbconvert_exporter": "python",
   "pygments_lexer": "ipython2",
   "version": "2.7.13"
  }
 },
 "nbformat": 4,
 "nbformat_minor": 2
}
